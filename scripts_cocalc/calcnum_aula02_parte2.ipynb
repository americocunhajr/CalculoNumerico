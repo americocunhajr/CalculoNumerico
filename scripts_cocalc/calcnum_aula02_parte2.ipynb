{
 "cells": [
  {
   "cell_type": "markdown",
   "metadata": {
    "colab_type": "text",
    "collapsed": false,
    "id": "-5p79DUzlg4a"
   },
   "source": [
    "<img align=\"left\" src=\"https://www.uerj.br/wp-content/uploads/2017/09/logo_uerj_cor.jpg\" width=\"10%\">"
   ]
  },
  {
   "cell_type": "markdown",
   "metadata": {
    "colab_type": "text",
    "collapsed": false,
    "id": "_-XX9FHllg4c"
   },
   "source": [
    "# Cálculo Numérico\n",
    "## Aula 2 - Noções de Programação para Computação Científica\n",
    "#### Prof. Americo Cunha\n",
    "#### Prof. Augusto Barbosa\n",
    "#### Prof. Luiz Mariano Carvalho\n",
    "#### Profa. Nancy Baygorrea"
   ]
  },
  {
   "cell_type": "markdown",
   "metadata": {
    "colab_type": "text",
    "collapsed": false,
    "deletable": true,
    "editable": true,
    "id": "W5iFrexVlg47"
   },
   "source": [
    "### Operações vetoriais e matriciais no GNU Octave"
   ]
  },
  {
   "cell_type": "code",
   "execution_count": 0,
   "metadata": {
    "collapsed": false
   },
   "outputs": [
   ],
   "source": [
    "% vetores de trabalho\n",
    "a = [1 2]\n",
    "b = [-1 1]"
   ]
  },
  {
   "cell_type": "code",
   "execution_count": 0,
   "metadata": {
    "collapsed": false
   },
   "outputs": [
   ],
   "source": [
    "% produto escalar entre dois vetores\n",
    "dot(a,b)"
   ]
  },
  {
   "cell_type": "code",
   "execution_count": 0,
   "metadata": {
    "cellView": "form",
    "colab": {
     "base_uri": "https://localhost:8080/",
     "height": 130
    },
    "colab_type": "code",
    "collapsed": false,
    "editable": true,
    "id": "8NBd-87elg48",
    "outputId": "d122d544-55a5-44aa-c231-5703bbbf8c86"
   },
   "outputs": [
   ],
   "source": [
    "% matrizes de trabalho\n",
    "A = [1 2 3 4; 4 3 2 1; 5 6 7 8; 8 7 6 5]\n",
    "B=[2 0 0 0; 0 3 0 0; 0 0 4 0; 0 0 0 5]"
   ]
  },
  {
   "cell_type": "code",
   "execution_count": 0,
   "metadata": {
    "cellView": "form",
    "colab": {
     "base_uri": "https://localhost:8080/",
     "height": 130
    },
    "colab_type": "code",
    "collapsed": false,
    "editable": true,
    "id": "l5RYtRgFlg4_",
    "outputId": "a0feacad-9dc2-49b7-c08f-b792a0134e66"
   },
   "outputs": [
   ],
   "source": [
    "% determinante de uma matriz\n",
    "det(A)"
   ]
  },
  {
   "cell_type": "code",
   "execution_count": 0,
   "metadata": {
    "cellView": "form",
    "colab": {
     "base_uri": "https://localhost:8080/",
     "height": 130
    },
    "colab_type": "code",
    "collapsed": false,
    "editable": true,
    "id": "UFNK3nq0lg5B",
    "outputId": "89be1f33-9265-40fc-c9d4-06c63ef8a4bc"
   },
   "outputs": [
   ],
   "source": [
    "% matriz transposta\n",
    "A'"
   ]
  },
  {
   "cell_type": "code",
   "execution_count": 0,
   "metadata": {
    "collapsed": false
   },
   "outputs": [
   ],
   "source": [
    "% soma e diferença entre matrizes\n",
    "A + B\n",
    "B - A"
   ]
  },
  {
   "cell_type": "code",
   "execution_count": 0,
   "metadata": {
    "cellView": "form",
    "colab": {
     "base_uri": "https://localhost:8080/",
     "height": 130
    },
    "colab_type": "code",
    "collapsed": false,
    "editable": true,
    "id": "BGc-fmgilg5E",
    "outputId": "a1ce4606-866f-4fb7-96fb-11210559c870"
   },
   "outputs": [
   ],
   "source": [
    "% produto matricial\n",
    "A*B"
   ]
  },
  {
   "cell_type": "code",
   "execution_count": 0,
   "metadata": {
    "cellView": "form",
    "colab": {
     "base_uri": "https://localhost:8080/",
     "height": 130
    },
    "colab_type": "code",
    "collapsed": false,
    "editable": true,
    "id": "ZQTWXrl5lg5H",
    "outputId": "6728c687-7074-4ec8-8a7d-ba76ae158651"
   },
   "outputs": [
   ],
   "source": [
    "% produto de Hadamard\n",
    "A.*B"
   ]
  },
  {
   "cell_type": "code",
   "execution_count": 0,
   "metadata": {
    "cellView": "form",
    "colab": {
     "base_uri": "https://localhost:8080/",
     "height": 130
    },
    "colab_type": "code",
    "collapsed": false,
    "editable": true,
    "id": "IPGXOwvClg5K",
    "outputId": "00eb90ab-8dba-4ddf-ea85-02ea06ff22b0"
   },
   "outputs": [
   ],
   "source": [
    "% produto matriz vetor\n",
    "b = [1; 1; 1; 1]\n",
    "A*b"
   ]
  },
  {
   "cell_type": "code",
   "execution_count": 0,
   "metadata": {
    "collapsed": false
   },
   "outputs": [
   ],
   "source": [
    "% blocos de matrizes\n",
    "A1 = A(1:2,1:2)\n",
    "A2 = A(1:2,3:4)\n",
    "A3 = A(3:4,1:2)\n",
    "A4 = A(3:4,3:4)"
   ]
  },
  {
   "cell_type": "code",
   "execution_count": 0,
   "metadata": {
    "collapsed": false
   },
   "outputs": [
   ],
   "source": [
    "% matriz identidade\n",
    "I = eye(5)"
   ]
  },
  {
   "cell_type": "code",
   "execution_count": 0,
   "metadata": {
    "collapsed": false
   },
   "outputs": [
   ],
   "source": [
    "% matriz nula\n",
    "Z = zeros(3,4)"
   ]
  },
  {
   "cell_type": "code",
   "execution_count": 0,
   "metadata": {
    "collapsed": false
   },
   "outputs": [
   ],
   "source": [
   ]
  }
 ],
 "metadata": {
  "colab": {
   "collapsed_sections": [
   ],
   "name": "Copy of Laboratorio0 - Aula1 (2).ipynb",
   "provenance": [
   ]
  },
  "kernelspec": {
   "display_name": "Octave",
   "language": "octave",
   "name": "octave"
  },
  "language_info": {
   "file_extension": ".m",
   "help_links": [
    {
     "text": "GNU Octave",
     "url": "https://www.gnu.org/software/octave/support.html"
    },
    {
     "text": "Octave Kernel",
     "url": "https://github.com/Calysto/octave_kernel"
    },
    {
     "text": "MetaKernel Magics",
     "url": "https://metakernel.readthedocs.io/en/latest/source/README.html"
    }
   ],
   "mimetype": "text/x-octave",
   "name": "octave",
   "version": "5.2.0"
  }
 },
 "nbformat": 4,
 "nbformat_minor": 4
}