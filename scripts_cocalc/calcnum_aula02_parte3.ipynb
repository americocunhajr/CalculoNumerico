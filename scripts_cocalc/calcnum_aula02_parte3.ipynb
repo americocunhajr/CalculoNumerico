{
 "cells": [
  {
   "cell_type": "markdown",
   "metadata": {
    "colab_type": "text",
    "collapsed": false,
    "id": "-5p79DUzlg4a"
   },
   "source": [
    "<img align=\"left\" src=\"https://www.uerj.br/wp-content/uploads/2017/09/logo_uerj_cor.jpg\" width=\"10%\">"
   ]
  },
  {
   "cell_type": "markdown",
   "metadata": {
    "colab_type": "text",
    "collapsed": false,
    "id": "_-XX9FHllg4c"
   },
   "source": [
    "# Cálculo Numérico\n",
    "## Aula 2 - Noções de Programação para Computação Científica\n",
    "#### Prof. Americo Cunha\n",
    "#### Prof. Augusto Barbosa\n",
    "#### Prof. Luiz Mariano Carvalho\n",
    "#### Profa. Nancy Baygorrea"
   ]
  },
  {
   "cell_type": "markdown",
   "metadata": {
    "colab_type": "text",
    "collapsed": false,
    "editable": true,
    "id": "cFGtTcHylg5R"
   },
   "source": [
    "### Operações lógicas e relacionais"
   ]
  },
  {
   "cell_type": "code",
   "execution_count": 0,
   "metadata": {
    "cellView": "form",
    "colab": {
     "base_uri": "https://localhost:8080/",
     "height": 130
    },
    "colab_type": "code",
    "collapsed": false,
    "editable": true,
    "id": "GV91JCBAlg5X",
    "outputId": "7277a862-20f4-4ba0-9f68-a13f2df18b5a",
    "scrolled": true
   },
   "outputs": [
   ],
   "source": [
    "% números guardados em variáveis\n",
    "a = 5\n",
    "b = 9"
   ]
  },
  {
   "cell_type": "code",
   "execution_count": 0,
   "metadata": {
    "collapsed": false
   },
   "outputs": [
   ],
   "source": [
    "% igualdades e diferenças\n",
    "a == b\n",
    "a ~= b"
   ]
  },
  {
   "cell_type": "code",
   "execution_count": 0,
   "metadata": {
    "collapsed": false
   },
   "outputs": [
   ],
   "source": [
    "% desigualdades\n",
    "a < b\n",
    "a <= b\n",
    "a > b\n",
    "a >= b"
   ]
  },
  {
   "cell_type": "code",
   "execution_count": 0,
   "metadata": {
    "collapsed": false
   },
   "outputs": [
   ],
   "source": [
    "% conectivo lógico \"e\" (conjução)\n",
    "a > 0 && b ~= b"
   ]
  },
  {
   "cell_type": "code",
   "execution_count": 0,
   "metadata": {
    "collapsed": false
   },
   "outputs": [
   ],
   "source": [
    "% conectivo lógico \"ou\" (disjunção)\n",
    "a > 0 || b ~= b"
   ]
  },
  {
   "cell_type": "code",
   "execution_count": 0,
   "metadata": {
    "collapsed": false
   },
   "outputs": [
   ],
   "source": [
    "% conectivo lógico \"ou\" (negação)\n",
    "~(a > 0)"
   ]
  },
  {
   "cell_type": "code",
   "execution_count": 0,
   "metadata": {
    "collapsed": false
   },
   "outputs": [
   ],
   "source": [
   ]
  }
 ],
 "metadata": {
  "colab": {
   "collapsed_sections": [
   ],
   "name": "Copy of Laboratorio0 - Aula1 (2).ipynb",
   "provenance": [
   ]
  },
  "kernelspec": {
   "display_name": "Octave",
   "language": "octave",
   "name": "octave"
  },
  "language_info": {
   "file_extension": ".m",
   "help_links": [
    {
     "text": "GNU Octave",
     "url": "https://www.gnu.org/software/octave/support.html"
    },
    {
     "text": "Octave Kernel",
     "url": "https://github.com/Calysto/octave_kernel"
    },
    {
     "text": "MetaKernel Magics",
     "url": "https://metakernel.readthedocs.io/en/latest/source/README.html"
    }
   ],
   "mimetype": "text/x-octave",
   "name": "octave",
   "version": "5.2.0"
  }
 },
 "nbformat": 4,
 "nbformat_minor": 4
}