{
 "cells": [
  {
   "cell_type": "markdown",
   "metadata": {
    "colab_type": "text",
    "collapsed": false,
    "id": "-5p79DUzlg4a"
   },
   "source": [
    "<img align=\"left\" src=\"https://www.uerj.br/wp-content/uploads/2017/09/logo_uerj_cor.jpg\" width=\"10%\">"
   ]
  },
  {
   "cell_type": "markdown",
   "metadata": {
    "colab_type": "text",
    "collapsed": false,
    "id": "_-XX9FHllg4c"
   },
   "source": [
    "# Cálculo Numérico\n",
    "\n",
    "## Aula 2 - Noções de Programação para Computação Científica\n",
    "\n",
    "#### Prof. Americo Cunha\n",
    "#### Prof. Augusto Barbosa\n",
    "#### Prof. Luiz Mariano Carvalho\n",
    "#### Profa. Nancy Baygorrea"
   ]
  },
  {
   "cell_type": "markdown",
   "metadata": {
    "colab_type": "text",
    "collapsed": false,
    "id": "YDvvgdLalg4e"
   },
   "source": [
    "### Calculadora científica no GNU Octave"
   ]
  },
  {
   "cell_type": "code",
   "execution_count": 0,
   "metadata": {
    "cellView": "both",
    "colab": {
     "base_uri": "https://localhost:8080/",
     "height": 34
    },
    "colab_type": "code",
    "collapsed": false,
    "editable": true,
    "id": "kHei1tNalg4f",
    "outputId": "260e2fb5-a999-4305-9920-cf9fc37b6489"
   },
   "outputs": [
   ],
   "source": [
    "2+3\n",
    "5-10"
   ]
  },
  {
   "cell_type": "code",
   "execution_count": 0,
   "metadata": {
    "cellView": "both",
    "colab": {
     "base_uri": "https://localhost:8080/",
     "height": 34
    },
    "colab_type": "code",
    "collapsed": false,
    "editable": true,
    "id": "WMUwQwcxlg4k",
    "outputId": "e791cd6e-3953-48d7-c012-ea3580175772"
   },
   "outputs": [
   ],
   "source": [
    "3^(4)\n",
    "sqrt(9)"
   ]
  },
  {
   "cell_type": "code",
   "execution_count": 0,
   "metadata": {
    "cellView": "both",
    "colab": {
    },
    "colab_type": "code",
    "collapsed": false,
    "editable": true,
    "id": "fgWbd-HJlg4o"
   },
   "outputs": [
   ],
   "source": [
    "0^0"
   ]
  },
  {
   "cell_type": "code",
   "execution_count": 0,
   "metadata": {
    "collapsed": false
   },
   "outputs": [
   ],
   "source": [
    "pi\n",
    "e"
   ]
  },
  {
   "cell_type": "code",
   "execution_count": 0,
   "metadata": {
    "cellView": "both",
    "colab": {
    },
    "colab_type": "code",
    "collapsed": false,
    "editable": true,
    "id": "a3_CcvzZlg4r"
   },
   "outputs": [
   ],
   "source": [
    "sin(pi/2)\n",
    "sin(90)\n",
    "cos(0)\n",
    "tan(pi/4)"
   ]
  },
  {
   "cell_type": "code",
   "execution_count": 0,
   "metadata": {
    "cellView": "both",
    "colab": {
    },
    "colab_type": "code",
    "collapsed": false,
    "editable": true,
    "id": "m8UVM97Tlg4u"
   },
   "outputs": [
   ],
   "source": [
    "x = exp(1)\n",
    "y = log10(e)\n",
    "z = log(e)\n",
    "x + y\n",
    "y-z\n",
    "x*z\n",
    "y/z"
   ]
  },
  {
   "cell_type": "code",
   "execution_count": 0,
   "metadata": {
    "collapsed": false
   },
   "outputs": [
   ],
   "source": [
    "asin(1)\n",
    "acos(-1)\n",
    "atan(0)"
   ]
  },
  {
   "cell_type": "code",
   "execution_count": 0,
   "metadata": {
    "cellView": "both",
    "colab": {
    },
    "colab_type": "code",
    "collapsed": false,
    "editable": true,
    "id": "C5vz0SC8lg4x"
   },
   "outputs": [
   ],
   "source": [
    "sqrt(-4)"
   ]
  },
  {
   "cell_type": "code",
   "execution_count": 0,
   "metadata": {
    "cellView": "both",
    "colab": {
    },
    "colab_type": "code",
    "collapsed": false,
    "editable": true,
    "id": "uu2W4O2elg44"
   },
   "outputs": [
   ],
   "source": [
    "(-4)^0.5"
   ]
  },
  {
   "cell_type": "code",
   "execution_count": 0,
   "metadata": {
    "collapsed": false
   },
   "outputs": [
   ],
   "source": [
    "format short\n",
    "sqrt(2)"
   ]
  },
  {
   "cell_type": "code",
   "execution_count": 0,
   "metadata": {
    "collapsed": false
   },
   "outputs": [
   ],
   "source": [
    "format long\n",
    "sqrt(2)"
   ]
  },
  {
   "cell_type": "code",
   "execution_count": 0,
   "metadata": {
    "collapsed": false
   },
   "outputs": [
   ],
   "source": [
   ]
  }
 ],
 "metadata": {
  "colab": {
   "collapsed_sections": [
   ],
   "name": "Copy of Laboratorio0 - Aula1 (2).ipynb",
   "provenance": [
   ]
  },
  "kernelspec": {
   "display_name": "Octave",
   "language": "octave",
   "name": "octave"
  },
  "language_info": {
   "file_extension": ".m",
   "help_links": [
    {
     "text": "GNU Octave",
     "url": "https://www.gnu.org/software/octave/support.html"
    },
    {
     "text": "Octave Kernel",
     "url": "https://github.com/Calysto/octave_kernel"
    },
    {
     "text": "MetaKernel Magics",
     "url": "https://metakernel.readthedocs.io/en/latest/source/README.html"
    }
   ],
   "mimetype": "text/x-octave",
   "name": "octave",
   "version": "5.2.0"
  }
 },
 "nbformat": 4,
 "nbformat_minor": 4
}