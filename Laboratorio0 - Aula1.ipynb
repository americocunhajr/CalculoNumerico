  {
   "cell_type": "markdown",
   "metadata": {
    "colab_type": "text",
    "id": "Kr7lsUTGojkv"
   },
   "source": [
    "# Cálculo Numérico\n",
    "\n",
    "## Laboratório 0\n",
    "\n",
    "#### Prof. Américo Barbosa da Cunha Junior\n",
    "\n",
    "##### americo@ime.uerj.br"
   ]
  },
  {
   "cell_type": "markdown",
   "metadata": {
    "colab_type": "text",
    "id": "sFWwAihJojkw"
   },
   "source": [
    "##### 1 - Noções básicas sobre GNU Octave"
   ]
  },
  {
   "cell_type": "markdown",
   "metadata": {
    "colab_type": "text",
    "id": "VkNJ_DdPojkx"
   },
   "source": [
    "O GNU Octave é uma linguagem de programação de alto nível, concebida, essencialmente, para uso em computação científica. Entre suas funcionalidades básicas podemos destacar:"
   ]
  },
  {
   "cell_type": "markdown",
   "metadata": {
    "colab_type": "text",
    "id": "mOLFYimPojky"
   },
   "source": [
    "###### I. Calculadora científica"
   ]
  },
  {
   "cell_type": "code",
   "execution_count": 1,
   "metadata": {
    "colab": {
     "base_uri": "https://localhost:8080/",
     "height": 34
    },
    "colab_type": "code",
    "executionInfo": {
     "elapsed": 1006,
     "status": "ok",
     "timestamp": 1598359516161,
     "user": {
      "displayName": "Marcos Vinicius Issa",
      "photoUrl": "https://lh3.googleusercontent.com/a-/AOh14GhJ1gg9r-ebaBXmbuWp49EwjAnEOmVixjKX41bL6Us=s64",
      "userId": "05230735634486657785"
     },
     "user_tz": 180
    },
    "id": "npOKQdBZojkz",
    "outputId": "4dfa71df-8c00-45b2-9058-aa5c42ad74c2"
   },
   "outputs": [
    {
     "name": "stdout",
     "output_type": "stream",
     "text": [
      "ans =  3\n"
     ]
    }
   ],
   "source": [
    "1 + 2"
   ]
  },
  {
   "cell_type": "code",
   "execution_count": 2,
   "metadata": {
    "colab": {
     "base_uri": "https://localhost:8080/",
     "height": 34
    },
    "colab_type": "code",
    "executionInfo": {
     "elapsed": 997,
     "status": "ok",
     "timestamp": 1598359516162,
     "user": {
      "displayName": "Marcos Vinicius Issa",
      "photoUrl": "https://lh3.googleusercontent.com/a-/AOh14GhJ1gg9r-ebaBXmbuWp49EwjAnEOmVixjKX41bL6Us=s64",
      "userId": "05230735634486657785"
     },
     "user_tz": 180
    },
    "id": "hCfoG85-ojk7",
    "outputId": "0396a50b-7e8b-4bf2-fce4-e3a64768bc36"
   },
   "outputs": [
    {
     "name": "stdout",
     "output_type": "stream",
     "text": [
      "ans =  27\n"
     ]
    }
   ],
   "source": [
    "3^(2+1)"
   ]
  },
  {
   "cell_type": "code",
   "execution_count": 3,
   "metadata": {
    "colab": {
     "base_uri": "https://localhost:8080/",
     "height": 34
    },
    "colab_type": "code",
    "executionInfo": {
     "elapsed": 984,
     "status": "ok",
     "timestamp": 1598359516164,
     "user": {
      "displayName": "Marcos Vinicius Issa",
      "photoUrl": "https://lh3.googleusercontent.com/a-/AOh14GhJ1gg9r-ebaBXmbuWp49EwjAnEOmVixjKX41bL6Us=s64",
      "userId": "05230735634486657785"
     },
     "user_tz": 180
    },
    "id": "h_p5Ij6KojlA",
    "outputId": "4eccacce-c7b3-4de2-f980-4c89eab77cab"
   },
   "outputs": [
    {
     "name": "stdout",
     "output_type": "stream",
     "text": [
      "ans =  1\n"
     ]
    }
   ],
   "source": [
    "0^0"
   ]
  },
  {
   "cell_type": "code",
   "execution_count": 4,
   "metadata": {
    "colab": {},
    "colab_type": "code",
    "id": "eFeRWbo4ojlG"
   },
   "outputs": [
    {
     "name": "stdout",
     "output_type": "stream",
     "text": [
      "ans =  2.7183\n"
     ]
    }
   ],
   "source": [
    "exp(1)"
   ]
  },
  {
   "cell_type": "code",
   "execution_count": 5,
   "metadata": {
    "colab": {},
    "colab_type": "code",
    "id": "hngZUG4CojlJ"
   },
   "outputs": [
    {
     "name": "stdout",
     "output_type": "stream",
     "text": [
      "ans =  0 + 2i\n"
     ]
    }
   ],
   "source": [
    "sqrt(-4)"
   ]
  },
  {
   "cell_type": "code",
   "execution_count": 6,
   "metadata": {
    "colab": {},
    "colab_type": "code",
    "id": "AhcpupUuojlM"
   },
   "outputs": [
    {
     "name": "stdout",
     "output_type": "stream",
     "text": [
      "ans =  1.2246e-16 + 2.0000e+00i\n"
     ]
    }
   ],
   "source": [
    "(-4)^0.5"
   ]
  },
  {
   "cell_type": "code",
   "execution_count": 7,
   "metadata": {
    "colab": {
     "base_uri": "https://localhost:8080/",
     "height": 163
    },
    "colab_type": "code",
    "executionInfo": {
     "elapsed": 1291,
     "status": "error",
     "timestamp": 1598359516482,
     "user": {
      "displayName": "Marcos Vinicius Issa",
      "photoUrl": "https://lh3.googleusercontent.com/a-/AOh14GhJ1gg9r-ebaBXmbuWp49EwjAnEOmVixjKX41bL6Us=s64",
      "userId": "05230735634486657785"
     },
     "user_tz": 180
    },
    "id": "psCf7IyjojlE",
    "outputId": "b4484d61-89b0-497d-cb33-20f2c8477c60"
   },
   "outputs": [
    {
     "name": "stdout",
     "output_type": "stream",
     "text": [
      "ans =  1\n"
     ]
    }
   ],
   "source": [
    "sin(pi/2)"
   ]
  },
  {
   "cell_type": "markdown",
   "metadata": {
    "colab_type": "text",
    "id": "aK8tMqn_ojlP"
   },
   "source": [
    "###### II. Operações vetoriais e matriciais"
   ]
  },
  {
   "cell_type": "code",
   "execution_count": 8,
   "metadata": {
    "colab": {
     "base_uri": "https://localhost:8080/",
     "height": 129
    },
    "colab_type": "code",
    "executionInfo": {
     "elapsed": 702,
     "status": "error",
     "timestamp": 1598360351058,
     "user": {
      "displayName": "Marcos Vinicius Issa",
      "photoUrl": "https://lh3.googleusercontent.com/a-/AOh14GhJ1gg9r-ebaBXmbuWp49EwjAnEOmVixjKX41bL6Us=s64",
      "userId": "05230735634486657785"
     },
     "user_tz": 180
    },
    "id": "q_iN626eojlQ",
    "outputId": "134843cf-c5b5-4aae-ba33-bcca98127f63"
   },
   "outputs": [
    {
     "name": "stdout",
     "output_type": "stream",
     "text": [
      "ans =  1\n"
     ]
    }
   ],
   "source": [
    "a = [1 2]; b = [-1 1]; dot(a,b)"
   ]
  },
  {
   "cell_type": "code",
   "execution_count": 9,
   "metadata": {
    "colab": {},
    "colab_type": "code",
    "id": "huI4zVJGojlT"
   },
   "outputs": [
    {
     "name": "stdout",
     "output_type": "stream",
     "text": [
      "ans = -2\n"
     ]
    }
   ],
   "source": [
    "A=[1 2; 3 4]; det(A)"
   ]
  },
  {
   "cell_type": "code",
   "execution_count": 10,
   "metadata": {
    "colab": {},
    "colab_type": "code",
    "id": "BFgKy1SrojlW"
   },
   "outputs": [
    {
     "name": "stdout",
     "output_type": "stream",
     "text": [
      "ans =\n",
      "\n",
      "    2    6\n",
      "    6   12\n",
      "\n"
     ]
    }
   ],
   "source": [
    "B=[2 0; 0 3]; A*B"
   ]
  },
  {
   "cell_type": "code",
   "execution_count": 11,
   "metadata": {
    "colab": {},
    "colab_type": "code",
    "id": "cORF5BswojlY"
   },
   "outputs": [
    {
     "name": "stdout",
     "output_type": "stream",
     "text": [
      "ans =\n",
      "\n",
      "    2    0\n",
      "    0   12\n",
      "\n"
     ]
    }
   ],
   "source": [
    "A.*B"
   ]
  },
  {
   "cell_type": "code",
   "execution_count": 12,
   "metadata": {
    "colab": {},
    "colab_type": "code",
    "id": "SfNn6WZ1ojlb"
   },
   "outputs": [
    {
     "name": "stdout",
     "output_type": "stream",
     "text": [
      "ans =\n",
      "\n",
      "   1\n",
      "   1\n",
      "\n"
     ]
    }
   ],
   "source": [
    "b = [-1; 1]; A*b"
   ]
  },
  {
   "cell_type": "code",
   "execution_count": 13,
   "metadata": {
    "colab": {},
    "colab_type": "code",
    "id": "CMsItjilojle"
   },
   "outputs": [
    {
     "name": "stdout",
     "output_type": "stream",
     "text": [
      "ans =\n",
      "\n",
      "   1   3\n",
      "   2   4\n",
      "\n"
     ]
    }
   ],
   "source": [
    "A'"
   ]
  },
  {
   "cell_type": "markdown",
   "metadata": {
    "colab_type": "text",
    "id": "KGV2oJvIojli"
   },
   "source": [
    "###### III. Plotar gráficos"
   ]
  },
  {
   "cell_type": "code",
   "execution_count": 14,
   "metadata": {
    "colab": {},
    "colab_type": "code",
    "id": "vQpogAq7ojlj"
   },
   "outputs": [
    {
     "name": "stdout",
     "output_type": "stream",
     "text": [
      "x =\n",
      "\n",
      "    0    1    2    3    4    5    6    7    8    9   10\n",
      "\n",
      "y =\n",
      "\n",
      " Columns 1 through 8:\n",
      "\n",
      "   0.00000   0.84147   0.90930   0.14112  -0.75680  -0.95892  -0.27942   0.65699\n",
      "\n",
      " Columns 9 through 11:\n",
      "\n",
      "   0.98936   0.41212  -0.54402\n",
      "\n"
     ]
    },
    {
     "data": {
      "image/png": "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\n",
      "text/plain": [
       "<IPython.core.display.Image object>"
      ]
     },
     "metadata": {},
     "output_type": "display_data"
    }
   ],
   "source": [
    "x=0:1:10\n",
    "y=sin(x)\n",
    "plot(x,y)"
   ]
  },
  {
   "cell_type": "markdown",
   "metadata": {
    "colab_type": "text",
    "id": "0URVRd8iojlm"
   },
   "source": [
    "##### 2 - Programação em Octave"
   ]
  },
  {
   "cell_type": "markdown",
   "metadata": {
    "colab_type": "text",
    "id": "Q1l3PMacojln"
   },
   "source": [
    "O programa a seguir calcula as raízes de uma equação do segundo grau. Implemente esse programa no ambiente GNU Octave e teste-o para diferentes valores de a, b e c."
   ]
  },
  {
   "cell_type": "markdown",
   "metadata": {
    "colab_type": "text",
    "id": "WwuEQHG5ojln"
   },
   "source": [
    "###### I. Primeiro definir a função da equação do segundo grau (nome do código: eq2grau.m)"
   ]
  },
  {
   "cell_type": "code",
   "execution_count": 15,
   "metadata": {
    "colab": {},
    "colab_type": "code",
    "id": "Cs_A-3Naojlo"
   },
   "outputs": [],
   "source": [
    "function [x1,x2] = eq2grau(a,b,c)\n",
    "x1 = (-b + sqrt(b^2 - 4*a*c))/(2*a);\n",
    "x2 = (-b - sqrt(b^2 - 4*a*c))/(2*a);\n",
    "end"
   ]
  },
  {
   "cell_type": "markdown",
   "metadata": {
    "colab_type": "text",
    "id": "9EmI1nfmojlq"
   },
   "source": [
    "###### II. Em seguida executar o código principal com a definição dos parâmetros (nome do código: main.m)"
   ]
  },
  {
   "cell_type": "code",
   "execution_count": 16,
   "metadata": {
    "colab": {},
    "colab_type": "code",
    "id": "GacrzVbCojlq"
   },
   "outputs": [
    {
     "name": "stdout",
     "output_type": "stream",
     "text": [
      "x1 = -0.50000 + 0.86603i\n",
      "x2 = -0.50000 - 0.86603i\n"
     ]
    }
   ],
   "source": [
    "clc\n",
    "clear\n",
    "close all\n",
    "a = 1.0; b = 1.0; c = 1.0;\n",
    "[x1,x2] = eq2grau(a,b,c)"
   ]
  },
  {
   "cell_type": "code",
   "execution_count": null,
   "metadata": {},
   "outputs": [],
   "source": []
  }
 ],
 "metadata": {
  "accelerator": "TPU",
  "colab": {
   "name": "Laboratorio0 - Aula1.ipynb",
   "provenance": []
  },
  "kernelspec": {
   "display_name": "Octave",
   "language": "octave",
   "name": "octave"
  },
  "language_info": {
   "file_extension": ".m",
   "help_links": [
    {
     "text": "GNU Octave",
     "url": "https://www.gnu.org/software/octave/support.html"
    },
    {
     "text": "Octave Kernel",
     "url": "https://github.com/Calysto/octave_kernel"
    },
    {
     "text": "MetaKernel Magics",
     "url": "https://metakernel.readthedocs.io/en/latest/source/README.html"
    }
   ],
   "mimetype": "text/x-octave",
   "name": "octave",
   "version": "5.2.0"
  }
 },
 "nbformat": 4,
 "nbformat_minor": 1
}
